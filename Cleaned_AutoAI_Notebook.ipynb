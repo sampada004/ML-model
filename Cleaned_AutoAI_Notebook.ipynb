{
 "cells": [
  {
   "cell_type": "markdown",
   "id": "fec4a339",
   "metadata": {},
   "source": [
    "# 🔧 Predictive Maintenance - Notebook\n",
    "\n",
    "This notebook is a cleaned, runnable version export from IBM Watsonx.ai. It includes the essential steps for using the trained model."
   ]
  },
  {
   "cell_type": "code",
   "execution_count": null,
   "id": "28237b93",
   "metadata": {},
   "outputs": [
    {
     "ename": "ModuleNotFoundError",
     "evalue": "No module named 'ibm_watson_machine_learning'",
     "output_type": "error",
     "traceback": [
      "\u001b[1;31m---------------------------------------------------------------------------\u001b[0m",
      "\u001b[1;31mModuleNotFoundError\u001b[0m                       Traceback (most recent call last)",
      "Cell \u001b[1;32mIn[3], line 2\u001b[0m\n\u001b[0;32m      1\u001b[0m \u001b[38;5;66;03m# Import necessary libraries\u001b[39;00m\n\u001b[1;32m----> 2\u001b[0m \u001b[38;5;28;01mfrom\u001b[39;00m \u001b[38;5;21;01mibm_watson_machine_learning\u001b[39;00m \u001b[38;5;28;01mimport\u001b[39;00m APIClient\n\u001b[0;32m      3\u001b[0m \u001b[38;5;28;01mimport\u001b[39;00m \u001b[38;5;21;01mpandas\u001b[39;00m \u001b[38;5;28;01mas\u001b[39;00m \u001b[38;5;21;01mpd\u001b[39;00m\n",
      "\u001b[1;31mModuleNotFoundError\u001b[0m: No module named 'ibm_watson_machine_learning'"
     ]
    }
   ],
   "source": [
    "# Import necessary libraries\n",
    "from ibm_watson_machine_learning import APIClient\n",
    "import pandas as pd"
   ]
  },
  {
   "cell_type": "code",
   "execution_count": null,
   "id": "f1bbd4c3",
   "metadata": {},
   "outputs": [],
   "source": [
    "# Set up WML credentials (replace with your actual values)\n",
    "wml_credentials = {\n",
    "    \"apikey\": \"your-api-key\",\n",
    "    \"url\": \"https://us-south.ml.cloud.ibm.com\"\n",
    "}\n",
    "\n",
    "client = APIClient(wml_credentials)\n",
    "client.set.default_space(\"your-space-id\")"
   ]
  },
  {
   "cell_type": "code",
   "execution_count": null,
   "id": "6840065c",
   "metadata": {},
   "outputs": [],
   "source": [
    "# Specify model and deployment ID\n",
    "model_uid = \"your-model-id\"\n",
    "deployment_id = \"your-deployment-id\""
   ]
  },
  {
   "cell_type": "code",
   "execution_count": null,
   "id": "cd5657ba",
   "metadata": {},
   "outputs": [],
   "source": [
    "# Example payload and prediction request\n",
    "# Update 'fields' and 'values' according to your model input\n",
    "payload = {\n",
    "    client.deployments.ScoringMetaNames.INPUT_DATA: [{\n",
    "        \"fields\": [\"feature1\", \"feature2\", \"feature3\"],\n",
    "        \"values\": [[10.5, 0.34, 56.7]]\n",
    "    }]\n",
    "}\n",
    "\n",
    "predictions = client.deployments.score(deployment_id, payload)\n",
    "print(predictions)"
   ]
  }
 ],
 "metadata": {
  "kernelspec": {
   "display_name": "base",
   "language": "python",
   "name": "python3"
  },
  "language_info": {
   "codemirror_mode": {
    "name": "ipython",
    "version": 3
   },
   "file_extension": ".py",
   "mimetype": "text/x-python",
   "name": "python",
   "nbconvert_exporter": "python",
   "pygments_lexer": "ipython3",
   "version": "3.12.7"
  }
 },
 "nbformat": 4,
 "nbformat_minor": 5
}
